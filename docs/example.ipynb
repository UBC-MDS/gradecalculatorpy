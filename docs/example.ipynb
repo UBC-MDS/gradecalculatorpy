{
 "cells": [
  {
   "cell_type": "markdown",
   "metadata": {},
   "source": [
    "# Example usage\n",
    "\n",
    "To use `gradecalculatorpy` in a project:"
   ]
  },
  {
   "cell_type": "code",
   "execution_count": 1,
   "metadata": {},
   "outputs": [
    {
     "name": "stdout",
     "output_type": "stream",
     "text": [
      "0.0.1\n"
     ]
    }
   ],
   "source": [
    "import gradecalculatorpy\n",
    "\n",
    "print(gradecalculatorpy.__version__)"
   ]
  },
  {
   "cell_type": "markdown",
   "metadata": {},
   "source": [
    "## Imports"
   ]
  },
  {
   "cell_type": "code",
   "execution_count": 2,
   "metadata": {},
   "outputs": [],
   "source": [
    "from gradecalculatorpy.construct_course import construct_course\n",
    "from gradecalculatorpy.update_grades import update_assignment_grade\n",
    "from gradecalculatorpy.calculate_grade import calculate_grade\n",
    "from gradecalculatorpy.predict_final import predict_final"
   ]
  },
  {
   "cell_type": "code",
   "execution_count": 3,
   "metadata": {},
   "outputs": [],
   "source": [
    "import pandas as pd"
   ]
  },
  {
   "cell_type": "markdown",
   "metadata": {},
   "source": [
    "## 1. Create the grading structure of a course using `construct_course`"
   ]
  },
  {
   "cell_type": "code",
   "execution_count": 4,
   "metadata": {},
   "outputs": [
    {
     "name": "stdin",
     "output_type": "stream",
     "text": [
      "What is name of dsci524 component #1?  Milestone 1\n",
      "What is weight(%) of dsci524 component #1?  20\n",
      "What is name of dsci524 component #2?  IA 1\n",
      "What is weight(%) of dsci524 component #2?  2\n",
      "What is name of dsci524 component #3?  Milestone 2\n",
      "What is weight(%) of dsci524 component #3?  20\n",
      "What is name of dsci524 component #4?  IA 2\n",
      "What is weight(%) of dsci524 component #4?  3\n",
      "What is name of dsci524 component #5?  Milestone 3\n",
      "What is weight(%) of dsci524 component #5?  20\n",
      "What is name of dsci524 component #6?  Milestone 4\n",
      "What is weight(%) of dsci524 component #6?  20\n",
      "What is name of dsci524 component #7?  Individual peer review\n",
      "What is weight(%) of dsci524 component #7?  10\n",
      "What is name of dsci524 component #8?  Team work reflection\n",
      "What is weight(%) of dsci524 component #8?  5\n"
     ]
    },
    {
     "name": "stdout",
     "output_type": "stream",
     "text": [
      "               Components  Weights (%)  Grades (%)\n",
      "0             Milestone 1           20         NaN\n",
      "1                    IA 1            2         NaN\n",
      "2             Milestone 2           20         NaN\n",
      "3                    IA 2            3         NaN\n",
      "4             Milestone 3           20         NaN\n",
      "5             Milestone 4           20         NaN\n",
      "6  Individual peer review           10         NaN\n",
      "7    Team work reflection            5         NaN\n"
     ]
    }
   ],
   "source": [
    "construct_course('dsci524', '/')"
   ]
  },
  {
   "cell_type": "code",
   "execution_count": 5,
   "metadata": {},
   "outputs": [
    {
     "data": {
      "text/html": [
       "<div>\n",
       "<style scoped>\n",
       "    .dataframe tbody tr th:only-of-type {\n",
       "        vertical-align: middle;\n",
       "    }\n",
       "\n",
       "    .dataframe tbody tr th {\n",
       "        vertical-align: top;\n",
       "    }\n",
       "\n",
       "    .dataframe thead th {\n",
       "        text-align: right;\n",
       "    }\n",
       "</style>\n",
       "<table border=\"1\" class=\"dataframe\">\n",
       "  <thead>\n",
       "    <tr style=\"text-align: right;\">\n",
       "      <th></th>\n",
       "      <th>Components</th>\n",
       "      <th>Weights (%)</th>\n",
       "      <th>Grades (%)</th>\n",
       "    </tr>\n",
       "  </thead>\n",
       "  <tbody>\n",
       "    <tr>\n",
       "      <th>0</th>\n",
       "      <td>Milestone 1</td>\n",
       "      <td>20</td>\n",
       "      <td>NaN</td>\n",
       "    </tr>\n",
       "    <tr>\n",
       "      <th>1</th>\n",
       "      <td>IA 1</td>\n",
       "      <td>2</td>\n",
       "      <td>NaN</td>\n",
       "    </tr>\n",
       "    <tr>\n",
       "      <th>2</th>\n",
       "      <td>Milestone 2</td>\n",
       "      <td>20</td>\n",
       "      <td>NaN</td>\n",
       "    </tr>\n",
       "    <tr>\n",
       "      <th>3</th>\n",
       "      <td>IA 2</td>\n",
       "      <td>3</td>\n",
       "      <td>NaN</td>\n",
       "    </tr>\n",
       "    <tr>\n",
       "      <th>4</th>\n",
       "      <td>Milestone 3</td>\n",
       "      <td>20</td>\n",
       "      <td>NaN</td>\n",
       "    </tr>\n",
       "    <tr>\n",
       "      <th>5</th>\n",
       "      <td>Milestone 4</td>\n",
       "      <td>20</td>\n",
       "      <td>NaN</td>\n",
       "    </tr>\n",
       "    <tr>\n",
       "      <th>6</th>\n",
       "      <td>Individual peer review</td>\n",
       "      <td>10</td>\n",
       "      <td>NaN</td>\n",
       "    </tr>\n",
       "    <tr>\n",
       "      <th>7</th>\n",
       "      <td>Team work reflection</td>\n",
       "      <td>5</td>\n",
       "      <td>NaN</td>\n",
       "    </tr>\n",
       "  </tbody>\n",
       "</table>\n",
       "</div>"
      ],
      "text/plain": [
       "               Components  Weights (%)  Grades (%)\n",
       "0             Milestone 1           20         NaN\n",
       "1                    IA 1            2         NaN\n",
       "2             Milestone 2           20         NaN\n",
       "3                    IA 2            3         NaN\n",
       "4             Milestone 3           20         NaN\n",
       "5             Milestone 4           20         NaN\n",
       "6  Individual peer review           10         NaN\n",
       "7    Team work reflection            5         NaN"
      ]
     },
     "execution_count": 5,
     "metadata": {},
     "output_type": "execute_result"
    }
   ],
   "source": [
    "pd.read_csv('dsci524.csv', index_col=0)"
   ]
  },
  {
   "cell_type": "markdown",
   "metadata": {},
   "source": [
    "## 2. Update a few components using `update_grades`"
   ]
  },
  {
   "cell_type": "code",
   "execution_count": 6,
   "metadata": {},
   "outputs": [],
   "source": [
    "update_assignment_grade('dsci524.csv', 'Milestone 1', 95.12)"
   ]
  },
  {
   "cell_type": "code",
   "execution_count": 7,
   "metadata": {},
   "outputs": [
    {
     "data": {
      "text/html": [
       "<div>\n",
       "<style scoped>\n",
       "    .dataframe tbody tr th:only-of-type {\n",
       "        vertical-align: middle;\n",
       "    }\n",
       "\n",
       "    .dataframe tbody tr th {\n",
       "        vertical-align: top;\n",
       "    }\n",
       "\n",
       "    .dataframe thead th {\n",
       "        text-align: right;\n",
       "    }\n",
       "</style>\n",
       "<table border=\"1\" class=\"dataframe\">\n",
       "  <thead>\n",
       "    <tr style=\"text-align: right;\">\n",
       "      <th></th>\n",
       "      <th>Components</th>\n",
       "      <th>Weights (%)</th>\n",
       "      <th>Grades (%)</th>\n",
       "    </tr>\n",
       "  </thead>\n",
       "  <tbody>\n",
       "    <tr>\n",
       "      <th>0</th>\n",
       "      <td>Milestone 1</td>\n",
       "      <td>20</td>\n",
       "      <td>95.12</td>\n",
       "    </tr>\n",
       "    <tr>\n",
       "      <th>1</th>\n",
       "      <td>IA 1</td>\n",
       "      <td>2</td>\n",
       "      <td>NaN</td>\n",
       "    </tr>\n",
       "    <tr>\n",
       "      <th>2</th>\n",
       "      <td>Milestone 2</td>\n",
       "      <td>20</td>\n",
       "      <td>NaN</td>\n",
       "    </tr>\n",
       "    <tr>\n",
       "      <th>3</th>\n",
       "      <td>IA 2</td>\n",
       "      <td>3</td>\n",
       "      <td>NaN</td>\n",
       "    </tr>\n",
       "    <tr>\n",
       "      <th>4</th>\n",
       "      <td>Milestone 3</td>\n",
       "      <td>20</td>\n",
       "      <td>NaN</td>\n",
       "    </tr>\n",
       "    <tr>\n",
       "      <th>5</th>\n",
       "      <td>Milestone 4</td>\n",
       "      <td>20</td>\n",
       "      <td>NaN</td>\n",
       "    </tr>\n",
       "    <tr>\n",
       "      <th>6</th>\n",
       "      <td>Individual peer review</td>\n",
       "      <td>10</td>\n",
       "      <td>NaN</td>\n",
       "    </tr>\n",
       "    <tr>\n",
       "      <th>7</th>\n",
       "      <td>Team work reflection</td>\n",
       "      <td>5</td>\n",
       "      <td>NaN</td>\n",
       "    </tr>\n",
       "  </tbody>\n",
       "</table>\n",
       "</div>"
      ],
      "text/plain": [
       "               Components  Weights (%)  Grades (%)\n",
       "0             Milestone 1           20       95.12\n",
       "1                    IA 1            2         NaN\n",
       "2             Milestone 2           20         NaN\n",
       "3                    IA 2            3         NaN\n",
       "4             Milestone 3           20         NaN\n",
       "5             Milestone 4           20         NaN\n",
       "6  Individual peer review           10         NaN\n",
       "7    Team work reflection            5         NaN"
      ]
     },
     "execution_count": 7,
     "metadata": {},
     "output_type": "execute_result"
    }
   ],
   "source": [
    "pd.read_csv('dsci524.csv', index_col=0)"
   ]
  },
  {
   "cell_type": "code",
   "execution_count": 8,
   "metadata": {},
   "outputs": [],
   "source": [
    "update_assignment_grade('dsci524.csv', 'IA 1', 99.99)\n",
    "update_assignment_grade('dsci524.csv', 'Milestone 2', 90.33)\n",
    "update_assignment_grade('dsci524.csv', 'IA 2', 99.99)\n",
    "update_assignment_grade('dsci524.csv', 'Milestone 3', 92.55)\n",
    "update_assignment_grade('dsci524.csv', 'Milestone 4', 95.75)\n",
    "update_assignment_grade('dsci524.csv', 'Individual peer review', 93.33)"
   ]
  },
  {
   "cell_type": "code",
   "execution_count": 9,
   "metadata": {},
   "outputs": [
    {
     "data": {
      "text/html": [
       "<div>\n",
       "<style scoped>\n",
       "    .dataframe tbody tr th:only-of-type {\n",
       "        vertical-align: middle;\n",
       "    }\n",
       "\n",
       "    .dataframe tbody tr th {\n",
       "        vertical-align: top;\n",
       "    }\n",
       "\n",
       "    .dataframe thead th {\n",
       "        text-align: right;\n",
       "    }\n",
       "</style>\n",
       "<table border=\"1\" class=\"dataframe\">\n",
       "  <thead>\n",
       "    <tr style=\"text-align: right;\">\n",
       "      <th></th>\n",
       "      <th>Components</th>\n",
       "      <th>Weights (%)</th>\n",
       "      <th>Grades (%)</th>\n",
       "    </tr>\n",
       "  </thead>\n",
       "  <tbody>\n",
       "    <tr>\n",
       "      <th>0</th>\n",
       "      <td>Milestone 1</td>\n",
       "      <td>20</td>\n",
       "      <td>95.12</td>\n",
       "    </tr>\n",
       "    <tr>\n",
       "      <th>1</th>\n",
       "      <td>IA 1</td>\n",
       "      <td>2</td>\n",
       "      <td>99.99</td>\n",
       "    </tr>\n",
       "    <tr>\n",
       "      <th>2</th>\n",
       "      <td>Milestone 2</td>\n",
       "      <td>20</td>\n",
       "      <td>90.33</td>\n",
       "    </tr>\n",
       "    <tr>\n",
       "      <th>3</th>\n",
       "      <td>IA 2</td>\n",
       "      <td>3</td>\n",
       "      <td>99.99</td>\n",
       "    </tr>\n",
       "    <tr>\n",
       "      <th>4</th>\n",
       "      <td>Milestone 3</td>\n",
       "      <td>20</td>\n",
       "      <td>92.55</td>\n",
       "    </tr>\n",
       "    <tr>\n",
       "      <th>5</th>\n",
       "      <td>Milestone 4</td>\n",
       "      <td>20</td>\n",
       "      <td>95.75</td>\n",
       "    </tr>\n",
       "    <tr>\n",
       "      <th>6</th>\n",
       "      <td>Individual peer review</td>\n",
       "      <td>10</td>\n",
       "      <td>93.33</td>\n",
       "    </tr>\n",
       "    <tr>\n",
       "      <th>7</th>\n",
       "      <td>Team work reflection</td>\n",
       "      <td>5</td>\n",
       "      <td>NaN</td>\n",
       "    </tr>\n",
       "  </tbody>\n",
       "</table>\n",
       "</div>"
      ],
      "text/plain": [
       "               Components  Weights (%)  Grades (%)\n",
       "0             Milestone 1           20       95.12\n",
       "1                    IA 1            2       99.99\n",
       "2             Milestone 2           20       90.33\n",
       "3                    IA 2            3       99.99\n",
       "4             Milestone 3           20       92.55\n",
       "5             Milestone 4           20       95.75\n",
       "6  Individual peer review           10       93.33\n",
       "7    Team work reflection            5         NaN"
      ]
     },
     "execution_count": 9,
     "metadata": {},
     "output_type": "execute_result"
    }
   ],
   "source": [
    "pd.read_csv('dsci524.csv', index_col=0)"
   ]
  },
  {
   "cell_type": "markdown",
   "metadata": {},
   "source": [
    "## 3. Calculate the grade for last component needed for a target grade using `predict_final`"
   ]
  },
  {
   "cell_type": "code",
   "execution_count": 10,
   "metadata": {},
   "outputs": [
    {
     "data": {
      "text/plain": [
       "78.4"
      ]
     },
     "execution_count": 10,
     "metadata": {},
     "output_type": "execute_result"
    }
   ],
   "source": [
    "predict_final('/dsci524.csv', 93)"
   ]
  },
  {
   "cell_type": "markdown",
   "metadata": {},
   "source": [
    "## 4. Calculate the course's final average using `calculate_grade`"
   ]
  },
  {
   "cell_type": "code",
   "execution_count": 11,
   "metadata": {},
   "outputs": [],
   "source": [
    "update_assignment_grade('dsci524.csv', 'Team work reflection', 80.23)"
   ]
  },
  {
   "cell_type": "code",
   "execution_count": 12,
   "metadata": {},
   "outputs": [
    {
     "name": "stdout",
     "output_type": "stream",
     "text": [
      "               Components  Weights (%)  Grades (%)\n",
      "0             Milestone 1           20       95.12\n",
      "1                    IA 1            2       99.99\n",
      "2             Milestone 2           20       90.33\n",
      "3                    IA 2            3       99.99\n",
      "4             Milestone 3           20       92.55\n",
      "5             Milestone 4           20       95.75\n",
      "6  Individual peer review           10       93.33\n",
      "7    Team work reflection            5       80.23\n"
     ]
    },
    {
     "data": {
      "text/plain": [
       "'Course grade is 93.09%'"
      ]
     },
     "execution_count": 12,
     "metadata": {},
     "output_type": "execute_result"
    }
   ],
   "source": [
    "calculate_grade('dsci524.csv')"
   ]
  }
 ],
 "metadata": {
  "kernelspec": {
   "display_name": "Python [conda env:gradecalculatorpy]",
   "language": "python",
   "name": "conda-env-gradecalculatorpy-py"
  },
  "language_info": {
   "codemirror_mode": {
    "name": "ipython",
    "version": 3
   },
   "file_extension": ".py",
   "mimetype": "text/x-python",
   "name": "python",
   "nbconvert_exporter": "python",
   "pygments_lexer": "ipython3",
   "version": "3.9.15"
  }
 },
 "nbformat": 4,
 "nbformat_minor": 4
}
